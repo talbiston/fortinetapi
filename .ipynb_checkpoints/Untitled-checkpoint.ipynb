{
 "cells": [
  {
   "cell_type": "code",
   "execution_count": 1,
   "id": "c0647ce9",
   "metadata": {},
   "outputs": [
    {
     "name": "stdout",
     "output_type": "stream",
     "text": [
      "········\n"
     ]
    }
   ],
   "source": [
    "from fortiapi import FmgApi"
   ]
  },
  {
   "cell_type": "code",
   "execution_count": 2,
   "id": "4213753c",
   "metadata": {},
   "outputs": [
    {
     "name": "stdout",
     "output_type": "stream",
     "text": [
      "\n",
      " RESPONSE:\n",
      "{ \"result\": [ { \"status\": { \"code\": 0, \"message\": \"OK\" }, \"url\": \"\\/sys\\/login\\/user\" } ], \"session\": \"wvJ4B5lkGUI0661JHzQ2+lTH\\/pu9y1onh\\/YQvqv9J2EHF0cUyUizj2OsjrWLPblytylE0QHhacdSBHj5hJ+dDPvFaUmX4c9\\/\" } \n",
      "\n"
     ]
    },
    {
     "name": "stderr",
     "output_type": "stream",
     "text": [
      "/usr/lib/python3/dist-packages/urllib3/connectionpool.py:999: InsecureRequestWarning: Unverified HTTPS request is being made to host '10.215.17.123'. Adding certificate verification is strongly advised. See: https://urllib3.readthedocs.io/en/latest/advanced-usage.html#ssl-warnings\n",
      "  warnings.warn(\n"
     ]
    }
   ],
   "source": [
    "fmg = FmgApi('lab-fmg')"
   ]
  },
  {
   "cell_type": "code",
   "execution_count": 3,
   "id": "f3a560ee",
   "metadata": {},
   "outputs": [
    {
     "name": "stdout",
     "output_type": "stream",
     "text": [
      "\n",
      " RPC CALL:\n",
      "{'jsonrpc': '2.0', 'method': 'get', 'params': [{'session': 'wvJ4B5lkGUI0661JHzQ2+lTH/pu9y1onh/YQvqv9J2EHF0cUyUizj2OsjrWLPblytylE0QHhacdSBHj5hJ+dDPvFaUmX4c9/', 'url': '/dvmdb/adom', 'fields': ['name']}]} \n",
      "\n",
      "\n",
      " RESPONSE:\n",
      "{ \"result\": [ { \"data\": [ { \"oid\": 1559, \"name\": \"CloudSmartz\" }, { \"oid\": 492, \"name\": \"Cloud_Firewall\" }, { \"oid\": 653, \"name\": \"Cloud_Firewall_Backup\" }, { \"oid\": 146, \"name\": \"D-AND-D\" }, { \"oid\": 1065, \"name\": \"DT_Test\" }, { \"oid\": 108, \"name\": \"FortiAnalyzer\" }, { \"oid\": 124, \"name\": \"FortiAuthenticator\" }, { \"oid\": 112, \"name\": \"FortiCache\" }, { \"oid\": 104, \"name\": \"FortiCarrier\" }, { \"oid\": 114, \"name\": \"FortiClient\" }, { \"oid\": 122, \"name\": \"FortiDDoS\" }, { \"oid\": 600, \"name\": \"FortiDeceptor\" }, { \"oid\": 579, \"name\": \"FortiFirewall\" }, { \"oid\": 106, \"name\": \"FortiMail\" }, { \"oid\": 118, \"name\": \"FortiManager\" }, { \"oid\": 128, \"name\": \"FortiNAC\" }, { \"oid\": 126, \"name\": \"FortiProxy\" }, { \"oid\": 120, \"name\": \"FortiSandbox\" }, { \"oid\": 110, \"name\": \"FortiWeb\" }, { \"oid\": 329, \"name\": \"Saint_Louis_Inc\" }, { \"oid\": 116, \"name\": \"Syslog\" }, { \"oid\": 165, \"name\": \"Todd_LAB\" }, { \"oid\": 581, \"name\": \"Unmanaged_Devices\" }, { \"oid\": 1073, \"name\": \"YT_LAB\" }, { \"oid\": 102, \"name\": \"others\" }, { \"oid\": 3, \"name\": \"root\" }, { \"oid\": 10, \"name\": \"rootp\" } ], \"status\": { \"code\": 0, \"message\": \"OK\" }, \"url\": \"\\/dvmdb\\/adom\" } ] } \n",
      "\n"
     ]
    },
    {
     "name": "stderr",
     "output_type": "stream",
     "text": [
      "/usr/lib/python3/dist-packages/urllib3/connectionpool.py:999: InsecureRequestWarning: Unverified HTTPS request is being made to host '10.215.17.123'. Adding certificate verification is strongly advised. See: https://urllib3.readthedocs.io/en/latest/advanced-usage.html#ssl-warnings\n",
      "  warnings.warn(\n"
     ]
    },
    {
     "data": {
      "text/plain": [
       "['CloudSmartz',\n",
       " 'Cloud_Firewall',\n",
       " 'Cloud_Firewall_Backup',\n",
       " 'D-AND-D',\n",
       " 'DT_Test',\n",
       " 'Saint_Louis_Inc',\n",
       " 'Syslog',\n",
       " 'Todd_LAB',\n",
       " 'Unmanaged_Devices',\n",
       " 'YT_LAB']"
      ]
     },
     "execution_count": 3,
     "metadata": {},
     "output_type": "execute_result"
    }
   ],
   "source": [
    "fmg.get_adoms()"
   ]
  }
 ],
 "metadata": {
  "kernelspec": {
   "display_name": "Python 3",
   "language": "python",
   "name": "python3"
  },
  "language_info": {
   "codemirror_mode": {
    "name": "ipython",
    "version": 3
   },
   "file_extension": ".py",
   "mimetype": "text/x-python",
   "name": "python",
   "nbconvert_exporter": "python",
   "pygments_lexer": "ipython3",
   "version": "3.8.5"
  }
 },
 "nbformat": 4,
 "nbformat_minor": 5
}
